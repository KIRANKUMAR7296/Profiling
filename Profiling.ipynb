{
 "metadata": {
  "language_info": {
   "codemirror_mode": {
    "name": "ipython",
    "version": 3
   },
   "file_extension": ".py",
   "mimetype": "text/x-python",
   "name": "python",
   "nbconvert_exporter": "python",
   "pygments_lexer": "ipython3",
   "version": "3.8.4-final"
  },
  "orig_nbformat": 2,
  "kernelspec": {
   "name": "Python 3.8.4 32-bit",
   "display_name": "Python 3.8.4 32-bit",
   "metadata": {
    "interpreter": {
     "hash": "6362e72f0a9e368c2c571ff1213d082e9bf946b4dd62679626322fcb6377a195"
    }
   }
  }
 },
 "nbformat": 4,
 "nbformat_minor": 2,
 "cells": [
  {
   "source": [
    "# Pandas Profiling\n",
    "\n",
    "Create an **Exploratory Data Analysis Report** with Minimal Effort ( One Line of Code )"
   ],
   "cell_type": "markdown",
   "metadata": {}
  },
  {
   "cell_type": "code",
   "execution_count": 1,
   "metadata": {},
   "outputs": [
    {
     "output_type": "stream",
     "name": "stderr",
     "text": [
      "Summarize dataset: 100%|██████████| 28/28 [00:11<00:00,  2.34it/s, Completed]\n",
      "Generate report structure: 100%|██████████| 1/1 [00:06<00:00,  6.26s/it]\n",
      "Render HTML: 100%|██████████| 1/1 [00:02<00:00,  2.64s/it]\n",
      "Export report to file: 100%|██████████| 1/1 [00:00<00:00, 25.71it/s]\n"
     ]
    }
   ],
   "source": [
    "# Import Libraries :\n",
    "import pandas as pd\n",
    "from pandas_profiling import ProfileReport\n",
    "\n",
    "# Import Data Set :\n",
    "df = pd.read_csv('Data/Heart.csv')\n",
    "\n",
    "# Create Profile Report and Save :\n",
    "ProfileReport(df).to_file(output_file = 'Heart.html')"
   ]
  },
  {
   "source": [
    "# Report Structure\n",
    "\n",
    "The Pandas Profiling Report :\n",
    "\n",
    "## Overview :\n",
    "\n",
    "* Basic Information about Data.\n",
    "\n",
    "* Number of Columns.\n",
    "\n",
    "* Number of Rows.\n",
    "\n",
    "* Data Size.\n",
    "\n",
    "* Percentage of **Missing** Values.\n",
    "\n",
    "* Data Type.\n",
    "\n",
    "## Reproduction :\n",
    "\n",
    "* Information about Report **Creation**.\n",
    "\n",
    "## Warnings :\n",
    "\n",
    "* **Warnings** while Creating | Producing the Report.\n",
    "\n",
    "## Variables :\n",
    "\n",
    "* Detailed Analysis of Each Variables.\n",
    "\n",
    "* A **Histogram** for **Continuous** Variable.\n",
    "\n",
    "* A **Bar Chart** for **Categorical** Variable.\n",
    "\n",
    "## Interactions :\n",
    "\n",
    "* **Bivariate** Relationship between Numerical Variables.\n",
    "\n",
    "## Correlations :\n",
    "\n",
    "* The Different Types of Correlations. \n",
    "\n",
    "* Numerical Variables : Pearson's Correlation | Spearman's Correlation | Kendall's Correlation | Phik Correlation.\n",
    "\n",
    "* Categorical Variables : Cramer's V Correlation.\n",
    "\n",
    "## Missing Values :\n",
    "\n",
    "* Missing Values in the Data Set.\n",
    "\n",
    "## Samples :\n",
    "\n",
    "* First and Last 10 Rows of the Data Set.\n",
    "\n",
    "## Duplicate Rows :\n",
    "\n",
    "* If there is are any Duplicate Rows in the Data Set ?\n",
    "\n",
    "# Disadvantage :\n",
    "\n",
    "* If the Data Set is Very Large, It will take a Long Time to Create a Report (Could be **Hours**.)\n",
    "\n",
    "* We have a Basic Exploratory Data Analysis using a Profiling Package\n",
    "\n",
    "* Definitely not a Complete **Exploration**."
   ],
   "cell_type": "markdown",
   "metadata": {}
  }
 ]
}